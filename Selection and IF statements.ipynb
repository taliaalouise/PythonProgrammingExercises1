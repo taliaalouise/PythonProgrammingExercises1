{
 "cells": [
  {
   "cell_type": "markdown",
   "metadata": {},
   "source": [
    "\n",
    "## SELECTION: Making decisions: The IF/ELSE statement"
   ]
  },
  {
   "cell_type": "code",
   "execution_count": null,
   "metadata": {},
   "outputs": [],
   "source": [
    "name = 'fred'\n",
    "age = 8\n",
    "if age > 10:\n",
    "    print('you are too young')\n",
    "else:\n",
    "    print('you are old enough')"
   ]
  },
  {
   "cell_type": "code",
   "execution_count": null,
   "metadata": {},
   "outputs": [],
   "source": [
    "name = 'fred'\n",
    "age = 12\n",
    "if age == 10:\n",
    "    print('you are too young')\n",
    "elif age == 11:\n",
    "    print('you are still too young')\n",
    "elif age == 12:\n",
    "\tprint('you are exactly old enough')\n",
    "else:\n",
    "\tprint('if you are not aged 12 or above then you are not allowed')"
   ]
  },
  {
   "cell_type": "code",
   "execution_count": null,
   "metadata": {},
   "outputs": [],
   "source": [
    "name = 'talia'\n",
    "age = 12\n",
    "wonGame = False\n",
    "\n",
    "if age > 10 and name == 'fred':\n",
    "  print('you are my favourite!!')\n",
    "else:\n",
    "  print('not quite there')\n"
   ]
  },
  {
   "cell_type": "code",
   "execution_count": null,
   "metadata": {},
   "outputs": [],
   "source": [
    "if (age < 100) and age >50 :\n",
    "  print('you are getting old')\n",
    "\n",
    "#when you test Booleans you don’t have to check equality to True or False\n",
    "#they ARE True or False themselves\n",
    "if not wonGame:\n",
    "  print('Sorry you lost')"
   ]
  },
  {
   "cell_type": "markdown",
   "metadata": {},
   "source": [
    "## weather base IF Statement"
   ]
  },
  {
   "cell_type": "code",
   "execution_count": null,
   "metadata": {},
   "outputs": [],
   "source": [
    "weatherTempCel =int(input(\"What temperature is it?\"))\n",
    "if weatherTempCel >=24:\n",
    "    print(\"you should wear shorts, sunglasses, t-shirt\")\n",
    "else:\n",
    "    if weatherTempCel <21:\n",
    "        print(\"you should wear a jumper, coat/jacket, thick socks\")"
   ]
  },
  {
   "cell_type": "markdown",
   "metadata": {
    "collapsed": true
   },
   "source": [
    "## IF statements - movie entry for 18 year old."
   ]
  },
  {
   "cell_type": "code",
   "execution_count": 1,
   "metadata": {},
   "outputs": [
    {
     "name": "stdout",
     "output_type": "stream",
     "text": [
      "What is your age? 67\n",
      "You can enter the movie theatre\n"
     ]
    }
   ],
   "source": [
    "age=int(input(\"What is your age? \"))\n",
    "if age >=18:\n",
    "    print(\"You can enter the movie theatre\")\n",
    "else:\n",
    "    adultAcc=input(\"Do you have an adult to accompany you?\")\n",
    "    if adultAcc== \"y\":\n",
    "        print(\"You can enter the movie theatre\")\n",
    "    else:\n",
    "        print(\"You cannot enter the movie theatre\")"
   ]
  },
  {
   "cell_type": "code",
   "execution_count": null,
   "metadata": {
    "collapsed": true
   },
   "outputs": [],
   "source": []
  },
  {
   "cell_type": "code",
   "execution_count": 9,
   "metadata": {},
   "outputs": [
    {
     "name": "stdout",
     "output_type": "stream",
     "text": [
      "Are you male or female?f\n",
      "Do you like pizza?no\n",
      "You cannot enter my party\n"
     ]
    }
   ],
   "source": [
    "gender=input(\"Are you male or female?\")\n",
    "if gender ==\"male\":\n",
    "    print(\"Now you have passed the first question\")\n",
    "pizza=input(\"Do you like pizza?\")\n",
    "if pizza == \"y\":\n",
    "        print(\"You can enter my party\")\n",
    "else:\n",
    "    print(\"You cannot enter my party\")\n"
   ]
  },
  {
   "cell_type": "code",
   "execution_count": null,
   "metadata": {
    "collapsed": true
   },
   "outputs": [],
   "source": []
  }
 ],
 "metadata": {
  "kernelspec": {
   "display_name": "Python 3",
   "language": "python",
   "name": "python3"
  },
  "language_info": {
   "codemirror_mode": {
    "name": "ipython",
    "version": 3
   },
   "file_extension": ".py",
   "mimetype": "text/x-python",
   "name": "python",
   "nbconvert_exporter": "python",
   "pygments_lexer": "ipython3",
   "version": "3.5.2"
  }
 },
 "nbformat": 4,
 "nbformat_minor": 2
}
