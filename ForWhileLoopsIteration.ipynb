{
 "cells": [
  {
   "cell_type": "markdown",
   "metadata": {},
   "source": [
    "# Iteration\n",
    "\n",
    "## For loops in python\n",
    "### \"looping\"\n"
   ]
  },
  {
   "cell_type": "markdown",
   "metadata": {},
   "source": [
    "#### conditional loops\n",
    "\n",
    "stop on a condition (or two)\n",
    "\n",
    "#### while loop\n",
    "\n",
    "stops as soon as a condition is met (or many) \n",
    "\n",
    "\n",
    "\n",
    "\n",
    "for - python keyword\n",
    "\n",
    "counter - name of variable\n",
    "\n",
    "in - python keyword \n",
    "\n",
    "range - built in python function\n",
    "\n"
   ]
  },
  {
   "cell_type": "code",
   "execution_count": 2,
   "metadata": {},
   "outputs": [
    {
     "name": "stdout",
     "output_type": "stream",
     "text": [
      "0\n",
      "1\n",
      "2\n",
      "3\n",
      "4\n",
      "5\n",
      "6\n",
      "7\n",
      "8\n",
      "9\n"
     ]
    }
   ],
   "source": [
    "for counter in range(0,10,1):\n",
    "    print(counter)"
   ]
  },
  {
   "cell_type": "code",
   "execution_count": 15,
   "metadata": {
    "collapsed": true
   },
   "outputs": [],
   "source": [
    "for counter in range(100,-2,1):\n",
    "    print(counter)"
   ]
  },
  {
   "cell_type": "code",
   "execution_count": 13,
   "metadata": {},
   "outputs": [
    {
     "name": "stdout",
     "output_type": "stream",
     "text": [
      "0\n",
      "1\n",
      "2\n",
      "3\n",
      "4\n",
      "5\n",
      "6\n",
      "7\n",
      "8\n",
      "9\n",
      "0\n",
      "1\n",
      "2\n",
      "3\n",
      "4\n",
      "5\n",
      "6\n",
      "7\n",
      "8\n",
      "9\n"
     ]
    }
   ],
   "source": [
    "for counter in range(0,10,1):\n",
    "    print(counter)\n",
    "    \n",
    "for counter in range(0,10,1):\n",
    "    print(counter)"
   ]
  },
  {
   "cell_type": "markdown",
   "metadata": {},
   "source": []
  },
  {
   "cell_type": "code",
   "execution_count": 12,
   "metadata": {},
   "outputs": [
    {
     "ename": "SyntaxError",
     "evalue": "invalid syntax (<ipython-input-12-ae3a6f5554ee>, line 2)",
     "output_type": "error",
     "traceback": [
      "\u001b[0;36m  File \u001b[0;32m\"<ipython-input-12-ae3a6f5554ee>\"\u001b[0;36m, line \u001b[0;32m2\u001b[0m\n\u001b[0;31m    print(i ends=\"*\")\u001b[0m\n\u001b[0m               ^\u001b[0m\n\u001b[0;31mSyntaxError\u001b[0m\u001b[0;31m:\u001b[0m invalid syntax\n"
     ]
    }
   ],
   "source": [
    "# gives no output\n",
    "# this is a logical error - a programmer error\n",
    "# not a syntax error\n",
    "for i in range(1,100,-1):\n",
    "    print(i ends=\"*\")"
   ]
  },
  {
   "cell_type": "markdown",
   "metadata": {},
   "source": [
    "# While (conditional) loops"
   ]
  },
  {
   "cell_type": "code",
   "execution_count": 17,
   "metadata": {},
   "outputs": [
    {
     "name": "stdout",
     "output_type": "stream",
     "text": [
      "do you want to continue? Press S to stop l\n",
      "do you want to continue? Press S to stop S\n"
     ]
    }
   ],
   "source": [
    "loopVar = \"x\" #I -nitialise\n",
    "while loopVar != \"s\": #T -est\n",
    "    loopVar = input(\"do you want to continue? Press S to stop \").lower() "
   ]
  },
  {
   "cell_type": "code",
   "execution_count": 26,
   "metadata": {},
   "outputs": [
    {
     "name": "stdout",
     "output_type": "stream",
     "text": [
      "You did not win this time but you have  4  lives left\n",
      "You did not win this time but you have  3  lives left\n",
      "You did not win this time but you have  2  lives left\n",
      "You did not win this time but you have  1  lives left\n",
      "Woo! you have won!!!\n",
      "Sorry you lost the game\n"
     ]
    }
   ],
   "source": [
    "import random\n",
    "won = False # at the start the game has not been won\n",
    "lives = 5 # you start with 5 lives \n",
    "\n",
    "while not won and lives > 0 :\n",
    "    lives = lives -1 # lose a life on each round\n",
    "    x = random.randint(0,10)\n",
    "    if x == 10:\n",
    "        won = True\n",
    "        print(\"Woo! you have won!!!\")\n",
    "    else:\n",
    "        print(\"You did not win this time but you have \", lives, \" lives left\")\n",
    "        \n",
    "# after the loop is finished this code runs\n",
    "if lives == 0:\n",
    "    print(\"Sorry you lost the game\")\n",
    "        "
   ]
  },
  {
   "cell_type": "code",
   "execution_count": null,
   "metadata": {
    "collapsed": true
   },
   "outputs": [],
   "source": []
  }
 ],
 "metadata": {
  "kernelspec": {
   "display_name": "Python 3",
   "language": "python",
   "name": "python3"
  },
  "language_info": {
   "codemirror_mode": {
    "name": "ipython",
    "version": 3
   },
   "file_extension": ".py",
   "mimetype": "text/x-python",
   "name": "python",
   "nbconvert_exporter": "python",
   "pygments_lexer": "ipython3",
   "version": "3.5.2"
  }
 },
 "nbformat": 4,
 "nbformat_minor": 2
}
